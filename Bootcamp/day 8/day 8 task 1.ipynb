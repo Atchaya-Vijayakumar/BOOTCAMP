{
 "cells": [
  {
   "cell_type": "code",
   "execution_count": 1,
   "id": "56947091-1d88-476f-8c24-d2443ff99986",
   "metadata": {},
   "outputs": [
    {
     "name": "stdout",
     "output_type": "stream",
     "text": [
      "Updated W1: 2.05\n",
      "Updated W3: -2.05\n",
      "Updated W4: 0.29000000000000004\n",
      "Updated W5: 2.05\n",
      "Updated W6: -1.945\n"
     ]
    }
   ],
   "source": [
    "import numpy as np\n",
    "\n",
    "# Initialize inputs and target\n",
    "X = np.array([5, 10, 30, 1])\n",
    "y = 20  # Target output\n",
    "\n",
    "# Initialize weights\n",
    "W1, W2, W3, W4, W5, W6 = 1, 0, -1, 0.5, 1, -1\n",
    "learning_rate = 0.01\n",
    "\n",
    "# Forward pass\n",
    "H1 = W1 * X[0] + W2 * X[1]\n",
    "H2 = W3 * X[0] + W4 * X[3]\n",
    "y_hat = W5 * H1 + W6 * H2\n",
    "\n",
    "# Compute loss (MSE)\n",
    "loss = (y_hat - y) ** 2\n",
    "\n",
    "# Compute gradients (Backpropagation)\n",
    "dJ_dy_hat = 2 * (y_hat - y)  # dJ/dy_hat\n",
    "\n",
    "dJ_dW5 = dJ_dy_hat * H1  # dJ/dW5\n",
    "dJ_dW6 = dJ_dy_hat * H2  # dJ/dW6\n",
    "\n",
    "dJ_dH1 = dJ_dy_hat * W5  # dJ/dH1\n",
    "dJ_dH2 = dJ_dy_hat * W6  # dJ/dH2\n",
    "\n",
    "dJ_dW1 = dJ_dH1 * X[0]  # dJ/dW1\n",
    "\n",
    "dJ_dW3 = dJ_dH2 * X[0]  # dJ/dW3\n",
    "dJ_dW4 = dJ_dH2 * X[3]  # dJ/dW4\n",
    "\n",
    "# Update weights\n",
    "W5 -= learning_rate * dJ_dW5\n",
    "W6 -= learning_rate * dJ_dW6\n",
    "W1 -= learning_rate * dJ_dW1\n",
    "W3 -= learning_rate * dJ_dW3\n",
    "W4 -= learning_rate * dJ_dW4\n",
    "\n",
    "# Print updated weights\n",
    "print(f\"Updated W1: {W1}\")\n",
    "print(f\"Updated W3: {W3}\")\n",
    "print(f\"Updated W4: {W4}\")\n",
    "print(f\"Updated W5: {W5}\")\n",
    "print(f\"Updated W6: {W6}\")\n"
   ]
  },
  {
   "cell_type": "code",
   "execution_count": null,
   "id": "9dc6e0a9-7f70-4c94-895e-b4682bf9b493",
   "metadata": {},
   "outputs": [],
   "source": [
    "\n"
   ]
  }
 ],
 "metadata": {
  "kernelspec": {
   "display_name": "Python 3 (ipykernel)",
   "language": "python",
   "name": "python3"
  },
  "language_info": {
   "codemirror_mode": {
    "name": "ipython",
    "version": 3
   },
   "file_extension": ".py",
   "mimetype": "text/x-python",
   "name": "python",
   "nbconvert_exporter": "python",
   "pygments_lexer": "ipython3",
   "version": "3.12.4"
  }
 },
 "nbformat": 4,
 "nbformat_minor": 5
}
