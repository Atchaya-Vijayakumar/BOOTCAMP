{
 "cells": [
  {
   "cell_type": "code",
   "execution_count": 1,
   "id": "bd57ee9e-93ec-4320-8d6e-38188c68208c",
   "metadata": {},
   "outputs": [
    {
     "name": "stderr",
     "output_type": "stream",
     "text": [
      "C:\\Users\\vatch\\anaconda3\\Lib\\site-packages\\sklearn\\cluster\\_kmeans.py:1446: UserWarning: KMeans is known to have a memory leak on Windows with MKL, when there are less chunks than available threads. You can avoid it by setting the environment variable OMP_NUM_THREADS=2.\n",
      "  warnings.warn(\n"
     ]
    },
    {
     "name": "stdout",
     "output_type": "stream",
     "text": [
      "PCA could not be applied due to insufficient features.\n",
      "Clustered Data Sample:\n",
      "   Feature 1  Feature 2  Cluster\n",
      "0   2.698582  -0.672960        0\n",
      "1  -0.128113   4.355952        2\n",
      "2   2.509049   5.773146        0\n",
      "3  -1.518276   3.444886        2\n",
      "4  -0.072283   2.883769        2\n"
     ]
    }
   ],
   "source": [
    "import pandas as pd\n",
    "import numpy as np\n",
    "import matplotlib.pyplot as plt\n",
    "from sklearn.decomposition import PCA\n",
    "from sklearn.cluster import KMeans\n",
    "from sklearn.preprocessing import StandardScaler\n",
    "from sklearn.model_selection import train_test_split\n",
    "\n",
    "# Load the dataset\n",
    "data = pd.read_csv(\"C:\\\\Users\\\\vatch\\\\Downloads\\\\archive (5)\\\\cluster_data.csv\")\n",
    "\n",
    "# Selecting numerical features\n",
    "X = data.iloc[:, :-1].values  # Features (excluding last column as target if applicable)\n",
    "\n",
    "# Standardizing the features\n",
    "scaler = StandardScaler()\n",
    "X_scaled = scaler.fit_transform(X)\n",
    "\n",
    "# Apply PCA to reduce dimensions\n",
    "n_components = min(X_scaled.shape[0], X_scaled.shape[1], 2)  # Ensure valid PCA components\n",
    "if n_components > 1:\n",
    "    pca = PCA(n_components=n_components)  # Reduce to 2D for visualization if possible\n",
    "    X_pca = pca.fit_transform(X_scaled)\n",
    "else:\n",
    "    X_pca = X_scaled  # If only 1 feature, no reduction needed\n",
    "\n",
    "# Apply K-Means Clustering\n",
    "kmeans = KMeans(n_clusters=3, init='k-means++', random_state=42, n_init=10)\n",
    "kmeans.fit(X_scaled)\n",
    "labels = kmeans.labels_\n",
    "centroids = kmeans.cluster_centers_\n",
    "\n",
    "# If PCA was applied, visualize in 2D\n",
    "if n_components > 1:\n",
    "    plt.figure(figsize=(8, 6))\n",
    "    plt.scatter(X_pca[:, 0], X_pca[:, 1], c=labels, cmap='viridis', alpha=0.6, edgecolors='k')\n",
    "    plt.scatter(pca.transform(centroids)[:, 0], pca.transform(centroids)[:, 1], c='red', marker='x', s=200, label='Centroids')\n",
    "    plt.title('K-Means Clustering with PCA')\n",
    "    plt.xlabel('Principal Component 1')\n",
    "    plt.ylabel('Principal Component 2')\n",
    "    plt.legend()\n",
    "    plt.show()\n",
    "else:\n",
    "    print(\"PCA could not be applied due to insufficient features.\")\n",
    "\n",
    "# Assign cluster labels to the dataset\n",
    "data['Cluster'] = labels\n",
    "print(\"Clustered Data Sample:\")\n",
    "print(data.head())"
   ]
  },
  {
   "cell_type": "code",
   "execution_count": null,
   "id": "690a6371-c075-42d9-810d-be0bd44a48b6",
   "metadata": {},
   "outputs": [],
   "source": []
  }
 ],
 "metadata": {
  "kernelspec": {
   "display_name": "Python 3 (ipykernel)",
   "language": "python",
   "name": "python3"
  },
  "language_info": {
   "codemirror_mode": {
    "name": "ipython",
    "version": 3
   },
   "file_extension": ".py",
   "mimetype": "text/x-python",
   "name": "python",
   "nbconvert_exporter": "python",
   "pygments_lexer": "ipython3",
   "version": "3.12.4"
  }
 },
 "nbformat": 4,
 "nbformat_minor": 5
}
