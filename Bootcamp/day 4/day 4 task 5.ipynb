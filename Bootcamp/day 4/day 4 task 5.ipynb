{
 "cells": [
  {
   "cell_type": "code",
   "execution_count": 1,
   "id": "d4beb85e-c502-4823-b6ff-a9875cea0929",
   "metadata": {},
   "outputs": [
    {
     "name": "stdout",
     "output_type": "stream",
     "text": [
      "Feature Importance (Impact on Prediction):\n",
      "     Feature  Coefficient\n",
      "0  Feature 1    -0.669507\n"
     ]
    }
   ],
   "source": [
    "import numpy as np\n",
    "import pandas as pd\n",
    "from sklearn.model_selection import train_test_split\n",
    "from sklearn.linear_model import LinearRegression\n",
    "\n",
    "# Load the dataset\n",
    "file_path =  \"C:\\\\Users\\\\vatch\\\\Downloads\\\\archive (5)\\\\cluster_data.csv\"# Path to your uploaded dataset\n",
    "df = pd.read_csv(file_path)\n",
    "\n",
    "# Assuming the dataset has multiple features, select predictors (excluding the target column)\n",
    "X = df.drop(columns=['Feature 2'])  # Remove target column, keeping all predictors\n",
    "y = df['Feature 2']  # Target variable\n",
    "\n",
    "# Split dataset into training and testing sets\n",
    "X_train, X_test, y_train, y_test = train_test_split(X, y, test_size=0.2, random_state=42)\n",
    "\n",
    "# Create and train the multiple linear regression model\n",
    "model = LinearRegression()\n",
    "model.fit(X_train, y_train)\n",
    "\n",
    "# Extract feature importance (coefficients)\n",
    "feature_importance = pd.DataFrame({'Feature': X.columns, 'Coefficient': model.coef_})\n",
    "feature_importance = feature_importance.sort_values(by='Coefficient', ascending=False)\n",
    "\n",
    "# Print feature importance\n",
    "print(\"Feature Importance (Impact on Prediction):\")\n",
    "print(feature_importance)\n"
   ]
  },
  {
   "cell_type": "code",
   "execution_count": null,
   "id": "3b7da041-4c71-46e1-a053-9d482cfffb70",
   "metadata": {},
   "outputs": [],
   "source": []
  }
 ],
 "metadata": {
  "kernelspec": {
   "display_name": "Python 3 (ipykernel)",
   "language": "python",
   "name": "python3"
  },
  "language_info": {
   "codemirror_mode": {
    "name": "ipython",
    "version": 3
   },
   "file_extension": ".py",
   "mimetype": "text/x-python",
   "name": "python",
   "nbconvert_exporter": "python",
   "pygments_lexer": "ipython3",
   "version": "3.12.4"
  }
 },
 "nbformat": 4,
 "nbformat_minor": 5
}
