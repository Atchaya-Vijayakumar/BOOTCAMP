{
 "cells": [
  {
   "cell_type": "code",
   "execution_count": 1,
   "id": "bf8ef056-62b2-4841-a332-96cb718597fc",
   "metadata": {},
   "outputs": [
    {
     "name": "stdout",
     "output_type": "stream",
     "text": [
      "R-squared: 0.589\n",
      "RMSE: 2.101\n"
     ]
    }
   ],
   "source": [
    "import numpy as np\n",
    "import pandas as pd\n",
    "from sklearn.model_selection import train_test_split\n",
    "from sklearn.linear_model import LinearRegression\n",
    "from sklearn.metrics import r2_score, mean_squared_error\n",
    "\n",
    "# Load the dataset\n",
    "file_path =  \"C:\\\\Users\\\\vatch\\\\Downloads\\\\archive (5)\\\\cluster_data.csv\" # Path to your uploaded dataset\n",
    "df = pd.read_csv(file_path)\n",
    "\n",
    "# Assuming the dataset has multiple features, select predictors (excluding the target column)\n",
    "X = df.drop(columns=['Feature 2'])  # Remove target column, keeping all predictors\n",
    "y = df['Feature 2']  # Target variable\n",
    "\n",
    "# Split dataset into training and testing sets\n",
    "X_train, X_test, y_train, y_test = train_test_split(X, y, test_size=0.2, random_state=42)\n",
    "\n",
    "# Create and train the multiple linear regression model\n",
    "model = LinearRegression()\n",
    "model.fit(X_train, y_train)\n",
    "\n",
    "# Predictions\n",
    "y_pred = model.predict(X_test)\n",
    "\n",
    "# Calculate evaluation metrics\n",
    "r_squared = r2_score(y_test, y_pred)\n",
    "rmse = np.sqrt(mean_squared_error(y_test, y_pred))\n",
    "\n",
    "# Print performance metrics\n",
    "print(f\"R-squared: {r_squared:.3f}\")  # Measures how well the model explains the variance in the target variable\n",
    "print(f\"RMSE: {rmse:.3f}\")  # Measures the average error between predicted and actual values\n"
   ]
  },
  {
   "cell_type": "code",
   "execution_count": null,
   "id": "8ff65ec5-277e-4f4a-b628-4f460d27852a",
   "metadata": {},
   "outputs": [],
   "source": []
  }
 ],
 "metadata": {
  "kernelspec": {
   "display_name": "Python 3 (ipykernel)",
   "language": "python",
   "name": "python3"
  },
  "language_info": {
   "codemirror_mode": {
    "name": "ipython",
    "version": 3
   },
   "file_extension": ".py",
   "mimetype": "text/x-python",
   "name": "python",
   "nbconvert_exporter": "python",
   "pygments_lexer": "ipython3",
   "version": "3.12.4"
  }
 },
 "nbformat": 4,
 "nbformat_minor": 5
}
