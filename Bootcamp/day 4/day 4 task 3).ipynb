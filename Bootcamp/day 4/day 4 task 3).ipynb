{
 "cells": [
  {
   "cell_type": "code",
   "execution_count": 1,
   "id": "9fab7d12-3af3-44fc-b7c8-149125d9569b",
   "metadata": {},
   "outputs": [
    {
     "name": "stdout",
     "output_type": "stream",
     "text": [
      "   Feature 1  Feature 2\n",
      "0   2.698582  -0.672960\n",
      "1  -0.128113   4.355952\n",
      "2   2.509049   5.773146\n",
      "3  -1.518276   3.444886\n",
      "4  -0.072283   2.883769\n",
      "R-squared: 0.589\n",
      "RMSE: 2.101\n"
     ]
    }
   ],
   "source": [
    "import numpy as np\n",
    "import pandas as pd\n",
    "import matplotlib.pyplot as plt\n",
    "import seaborn as sns\n",
    "from sklearn.model_selection import train_test_split\n",
    "from sklearn.linear_model import LinearRegression\n",
    "from sklearn.metrics import r2_score, mean_squared_error\n",
    "\n",
    "# Load the dataset\n",
    "file_path =  \"C:\\\\Users\\\\vatch\\\\Downloads\\\\archive (5)\\\\cluster_data.csv\" # Path to your uploaded dataset\n",
    "df = pd.read_csv(file_path)\n",
    "\n",
    "# Check dataset structure\n",
    "print(df.head())\n",
    "\n",
    "# Assuming the dataset has multiple features, select predictors (excluding the target column)\n",
    "X = df.drop(columns=['Feature 2'])  # Remove target column, keeping all predictors\n",
    "y = df['Feature 2']  # Target variable\n",
    "\n",
    "# Split dataset into training and testing sets\n",
    "X_train, X_test, y_train, y_test = train_test_split(X, y, test_size=0.2, random_state=42)\n",
    "\n",
    "# Create and train the multiple linear regression model\n",
    "model = LinearRegression()\n",
    "model.fit(X_train, y_train)\n",
    "\n",
    "# Predictions\n",
    "y_pred = model.predict(X_test)\n",
    "\n",
    "# Calculate evaluation metrics\n",
    "r_squared = r2_score(y_test, y_pred)\n",
    "rmse = np.sqrt(mean_squared_error(y_test, y_pred))\n",
    "\n",
    "# Print performance metrics\n",
    "print(f\"R-squared: {r_squared:.3f}\")\n",
    "print(f\"RMSE: {rmse:.3f}\")\n"
   ]
  },
  {
   "cell_type": "code",
   "execution_count": null,
   "id": "40a3c792-6d64-4877-8286-9483758382cd",
   "metadata": {},
   "outputs": [],
   "source": []
  }
 ],
 "metadata": {
  "kernelspec": {
   "display_name": "Python 3 (ipykernel)",
   "language": "python",
   "name": "python3"
  },
  "language_info": {
   "codemirror_mode": {
    "name": "ipython",
    "version": 3
   },
   "file_extension": ".py",
   "mimetype": "text/x-python",
   "name": "python",
   "nbconvert_exporter": "python",
   "pygments_lexer": "ipython3",
   "version": "3.12.4"
  }
 },
 "nbformat": 4,
 "nbformat_minor": 5
}
