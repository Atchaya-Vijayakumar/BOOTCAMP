{
 "cells": [
  {
   "cell_type": "code",
   "execution_count": 1,
   "id": "5898c509-352c-4a2a-8399-1a0ac8ae9ab9",
   "metadata": {},
   "outputs": [
    {
     "name": "stdout",
     "output_type": "stream",
     "text": [
      "Woof!\n",
      "Meow!\n",
      "I can both bark and meow!\n"
     ]
    }
   ],
   "source": [
    "class Dog:\n",
    "    def bark(self):\n",
    "        return \"Woof!\"\n",
    "    \n",
    "class Cat:\n",
    "    def meow(self):\n",
    "        return \"Meow!\"\n",
    "    \n",
    "class Hybrid(Dog, Cat):\n",
    "    def sound(self):\n",
    "        return \"I can both bark and meow!\"\n",
    "hybrid = Hybrid()\n",
    "print(hybrid.bark())\n",
    "print(hybrid.meow())\n",
    "print(hybrid.sound())\n"
   ]
  },
  {
   "cell_type": "code",
   "execution_count": null,
   "id": "07e8ce5c-0dad-4400-b7c8-487298c2832e",
   "metadata": {},
   "outputs": [],
   "source": []
  }
 ],
 "metadata": {
  "kernelspec": {
   "display_name": "Python 3 (ipykernel)",
   "language": "python",
   "name": "python3"
  },
  "language_info": {
   "codemirror_mode": {
    "name": "ipython",
    "version": 3
   },
   "file_extension": ".py",
   "mimetype": "text/x-python",
   "name": "python",
   "nbconvert_exporter": "python",
   "pygments_lexer": "ipython3",
   "version": "3.12.4"
  }
 },
 "nbformat": 4,
 "nbformat_minor": 5
}
