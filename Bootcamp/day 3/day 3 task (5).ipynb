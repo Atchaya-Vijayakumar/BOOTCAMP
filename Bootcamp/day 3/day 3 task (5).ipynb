{
 "cells": [
  {
   "cell_type": "code",
   "execution_count": 1,
   "id": "ceeb4cc9-2fe7-4a9d-b867-e50ce0298bd5",
   "metadata": {},
   "outputs": [
    {
     "name": "stdout",
     "output_type": "stream",
     "text": [
      "80\n",
      "90\n"
     ]
    }
   ],
   "source": [
    "class Robot:\n",
    "    def __init__(self, model, energy_level):\n",
    "        self._model = model  # Protected attribute\n",
    "        self.__energy_level = energy_level  # Private attribute\n",
    "    \n",
    "    def get_energy_level(self):\n",
    "        return self.__energy_level\n",
    "    \n",
    "    def set_energy_level(self, level):\n",
    "        if 0 <= level <= 100:\n",
    "            self.__energy_level = level\n",
    "        else:\n",
    "            raise ValueError(\"Energy level must be between 0 and 100.\")\n",
    "\n",
    "robot = Robot(\"RX-78\", 80)\n",
    "print(robot.get_energy_level())\n",
    "robot.set_energy_level(90)\n",
    "print(robot.get_energy_level())\n"
   ]
  },
  {
   "cell_type": "code",
   "execution_count": null,
   "id": "ea8523e6-e5c8-4b0a-98fd-4a009c8c8ef0",
   "metadata": {},
   "outputs": [],
   "source": []
  }
 ],
 "metadata": {
  "kernelspec": {
   "display_name": "Python 3 (ipykernel)",
   "language": "python",
   "name": "python3"
  },
  "language_info": {
   "codemirror_mode": {
    "name": "ipython",
    "version": 3
   },
   "file_extension": ".py",
   "mimetype": "text/x-python",
   "name": "python",
   "nbconvert_exporter": "python",
   "pygments_lexer": "ipython3",
   "version": "3.12.4"
  }
 },
 "nbformat": 4,
 "nbformat_minor": 5
}
