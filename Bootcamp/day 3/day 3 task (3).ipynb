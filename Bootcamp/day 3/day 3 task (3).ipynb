{
 "cells": [
  {
   "cell_type": "code",
   "execution_count": 1,
   "id": "f3d6cff7-7eb6-46e8-8bb2-d0b5fabf3520",
   "metadata": {},
   "outputs": [
    {
     "name": "stdout",
     "output_type": "stream",
     "text": [
      "Max says Woof!\n",
      "Max is sleeping...\n",
      "Max is playing happily!\n"
     ]
    }
   ],
   "source": [
    "class Dog:\n",
    "    def __init__(self, name, age):\n",
    "        self.name = name\n",
    "        self.age = age\n",
    "    \n",
    "    def bark(self):\n",
    "        return f\"{self.name} says Woof!\"\n",
    "    \n",
    "    def sleep(self):\n",
    "        return f\"{self.name} is sleeping...\"\n",
    "\n",
    "class Puppy(Dog):\n",
    "    def play(self):\n",
    "        return f\"{self.name} is playing happily!\"\n",
    "\n",
    "puppy = Puppy(\"Max\", 1)\n",
    "print(puppy.bark())\n",
    "print(puppy.sleep())\n",
    "print(puppy.play())\n"
   ]
  },
  {
   "cell_type": "code",
   "execution_count": null,
   "id": "ecb4971f-a050-4204-8a02-0b179b42f051",
   "metadata": {},
   "outputs": [],
   "source": []
  }
 ],
 "metadata": {
  "kernelspec": {
   "display_name": "Python 3 (ipykernel)",
   "language": "python",
   "name": "python3"
  },
  "language_info": {
   "codemirror_mode": {
    "name": "ipython",
    "version": 3
   },
   "file_extension": ".py",
   "mimetype": "text/x-python",
   "name": "python",
   "nbconvert_exporter": "python",
   "pygments_lexer": "ipython3",
   "version": "3.12.4"
  }
 },
 "nbformat": 4,
 "nbformat_minor": 5
}
