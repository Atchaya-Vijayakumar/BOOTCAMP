{
 "cells": [
  {
   "cell_type": "code",
   "execution_count": 1,
   "id": "1bce539d-1d79-4ae7-bb91-a576089abcb9",
   "metadata": {},
   "outputs": [
    {
     "name": "stdout",
     "output_type": "stream",
     "text": [
      "Charlie says Woof!\n",
      "Charlie is sleeping...\n"
     ]
    }
   ],
   "source": [
    "class Dog:\n",
    "    def __init__(self, name, age):\n",
    "        self.name = name\n",
    "        self.age = age\n",
    "    \n",
    "    def bark(self):\n",
    "        return f\"{self.name} says Woof!\"\n",
    "    \n",
    "    def sleep(self):\n",
    "        return f\"{self.name} is sleeping...\"\n",
    "dog2 = Dog(\"Charlie\", 2)\n",
    "print(dog2.bark())\n",
    "print(dog2.sleep())\n"
   ]
  },
  {
   "cell_type": "code",
   "execution_count": null,
   "id": "ad5281b5-426a-4bf1-807b-1dfe8266d211",
   "metadata": {},
   "outputs": [],
   "source": []
  }
 ],
 "metadata": {
  "kernelspec": {
   "display_name": "Python 3 (ipykernel)",
   "language": "python",
   "name": "python3"
  },
  "language_info": {
   "codemirror_mode": {
    "name": "ipython",
    "version": 3
   },
   "file_extension": ".py",
   "mimetype": "text/x-python",
   "name": "python",
   "nbconvert_exporter": "python",
   "pygments_lexer": "ipython3",
   "version": "3.12.4"
  }
 },
 "nbformat": 4,
 "nbformat_minor": 5
}
